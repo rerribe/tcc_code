{
 "cells": [
  {
   "cell_type": "code",
   "execution_count": 1,
   "metadata": {},
   "outputs": [],
   "source": [
    "import os\n",
    "import sys\n",
    "import string\n",
    "import numpy as np\n",
    "import matplotlib.pyplot as plt\n",
    "from sympy import *\n",
    "from qm import*"
   ]
  },
  {
   "cell_type": "code",
   "execution_count": 2,
   "metadata": {},
   "outputs": [
    {
     "name": "stdout",
     "output_type": "stream",
     "text": [
      "---------------\n",
      "i\n"
     ]
    }
   ],
   "source": [
    "temp = open('lion.kiss2')\n",
    "l = []\n",
    "line_char = temp.readlines()\n",
    "l = line_char[5:]\n",
    "#for line in line_char:\n",
    "#    print(line)\n",
    "print(\"---------------\")\n",
    "entrada = line_char[1]\n",
    "#type(entrada)\n",
    "print(entrada[1:2])"
   ]
  },
  {
   "cell_type": "code",
   "execution_count": 3,
   "metadata": {},
   "outputs": [
    {
     "name": "stdout",
     "output_type": "stream",
     "text": [
      "00 00\n",
      "00 00\n",
      "00 01\n",
      "01 01\n",
      "01 00\n",
      "01 10\n",
      "10 10\n",
      "10 01\n",
      "10 11\n",
      "11 11\n",
      "11 10\n",
      "---------------\n",
      "['-000000', '1100000', '010001-', '0-01011', '1101000', '1001101', '1-10101', '0010011', '0110111', '0-11111', '1111101']\n"
     ]
    }
   ],
   "source": [
    "#exemplo utilizando o arquivo lion.kiss2\n",
    "temp = open('lion.kiss2')\n",
    "l = []\n",
    "entrada = []\n",
    "saida = []\n",
    "\n",
    "atual = []\n",
    "atual_inteiro = []\n",
    "entrada_convertida = []\n",
    "\n",
    "proximo = []\n",
    "proximo_inteiro = []\n",
    "proximo_convertido = []\n",
    "ums = []\n",
    "\n",
    "line_char = temp.readlines()\n",
    "l = line_char[5:]\n",
    "for i in range(len(l)):\n",
    "    entrada = l[i].split()[0]\n",
    "    saida = l[i].split()[3]\n",
    "    atual = l[i].split()[1]\n",
    "    proximo = l[i].split()[2]\n",
    "    atual_inteiro = int(atual[2])\n",
    "    proximo_inteiro = int(proximo[2])\n",
    "    #print(valor_inteiro)\n",
    "    entrada_convertida = \"{0:{fill}2b}\".format(atual_inteiro,fill='0')\n",
    "    proximo_convertido = \"{0:{fill}2b}\".format(proximo_inteiro,fill='0')\n",
    "    #print(entrada_convertida,proximo_convertido)\n",
    "    linha = entrada+entrada_convertida+proximo_convertido+saida\n",
    "    ums.append(linha)\n",
    "    print(entrada_convertida, proximo_convertido)\n",
    "print(\"---------------\")\n",
    "\n",
    "print(ums)"
   ]
  },
  {
   "cell_type": "code",
   "execution_count": 4,
   "metadata": {},
   "outputs": [],
   "source": [
    " qm = QuineMcCluskey()"
   ]
  },
  {
   "cell_type": "code",
   "execution_count": 5,
   "metadata": {},
   "outputs": [
    {
     "data": {
      "text/plain": [
       "{'-000000',\n",
       " '0-01011',\n",
       " '0-11111',\n",
       " '0010011',\n",
       " '010001-',\n",
       " '0110111',\n",
       " '1-10101',\n",
       " '1001101',\n",
       " '110-000',\n",
       " '1111101'}"
      ]
     },
     "execution_count": 5,
     "metadata": {},
     "output_type": "execute_result"
    }
   ],
   "source": [
    "#teste = ['0001', '0010', '0101', '0110', '1001', '1010', '1101', '1110']\n",
    "qm.simplify_los(ums)\n"
   ]
  },
  {
   "cell_type": "code",
   "execution_count": 6,
   "metadata": {},
   "outputs": [],
   "source": [
    "#for line in l:\n",
    "#    print(line)"
   ]
  },
  {
   "cell_type": "code",
   "execution_count": 7,
   "metadata": {},
   "outputs": [
    {
     "data": {
      "text/latex": [
       "$\\displaystyle \\left(a \\wedge \\neg d\\right) \\vee \\left(c \\wedge \\neg a \\wedge \\neg b\\right)$"
      ],
      "text/plain": [
       "(a & ~d) | (c & ~a & ~b)"
      ]
     },
     "execution_count": 7,
     "metadata": {},
     "output_type": "execute_result"
    }
   ],
   "source": [
    "#exemplo do slide\n",
    "from sympy.logic import SOPform\n",
    "from sympy import symbols \n",
    "a, b, c, d = symbols('a b c d')\n",
    "minterms = [[0,0,1,1], [0,0,1,0], [1,1,0,0], [1,0,0,0], [1,0,1,0],[1,1,1,0]]\n",
    "SOPform([a,b,c,d], minterms)"
   ]
  },
  {
   "cell_type": "code",
   "execution_count": 8,
   "metadata": {},
   "outputs": [
    {
     "name": "stdout",
     "output_type": "stream",
     "text": [
      "0b1001\n"
     ]
    },
    {
     "data": {
      "text/plain": [
       "str"
      ]
     },
     "execution_count": 8,
     "metadata": {},
     "output_type": "execute_result"
    }
   ],
   "source": [
    "c = bin(9)\n",
    "print(c)\n",
    "type(c)"
   ]
  },
  {
   "cell_type": "code",
   "execution_count": 9,
   "metadata": {},
   "outputs": [],
   "source": [
    "#convertido = np.binary_repr(1)\n",
    "#type(int(convertido))\n",
    "#convertido = int(convertido)\n",
    "#print(convertido)\n",
    "#type(convertido)\n",
    "\n",
    "#\"{0:{fill}2b}\".format(valor,fill='0')"
   ]
  },
  {
   "cell_type": "code",
   "execution_count": 15,
   "metadata": {},
   "outputs": [
    {
     "name": "stdout",
     "output_type": "stream",
     "text": [
      "0000 0000\n",
      "0000 0001\n",
      "0000 0100\n",
      "0000 0000\n",
      "0001 0001\n",
      "0001 0000\n",
      "0001 0010\n",
      "0001 0000\n",
      "0010 0010\n",
      "0010 0001\n",
      "0010 0011\n",
      "0010 0000\n",
      "0011 0011\n",
      "0011 0010\n",
      "0011 0000\n",
      "0011 0000\n",
      "0100 0100\n",
      "0100 0000\n",
      "0100 0101\n",
      "0100 0000\n",
      "0101 0101\n",
      "0101 0100\n",
      "0101 0110\n",
      "0101 0000\n",
      "0110 0110\n",
      "0110 0101\n",
      "0110 0000\n",
      "0110 0000\n",
      "---------------\n"
     ]
    }
   ],
   "source": [
    "#exemplo utilizando o arquivo bbara.kiss2\n",
    "temp = open('beecount.kiss2')\n",
    "l = []\n",
    "entrada = []\n",
    "saida = []\n",
    "\n",
    "atual = []\n",
    "atual_inteiro = []\n",
    "entrada_convertida = []\n",
    "\n",
    "proximo = []\n",
    "proximo_inteiro = []\n",
    "proximo_convertido = []\n",
    "doisis = []\n",
    "\n",
    "line_char = temp.readlines()\n",
    "l = line_char[5:]\n",
    "for i in range(len(l)):\n",
    "    entrada = l[i].split()[0]\n",
    "    saida = l[i].split()[3]\n",
    "    atual = l[i].split()[1]\n",
    "    proximo = l[i].split()[2]\n",
    "    atual_inteiro = int(atual[2])\n",
    "    proximo_inteiro = int(proximo[2])\n",
    "    #print(valor_inteiro)\n",
    "    entrada_convertida = \"{0:{fill}4b}\".format(atual_inteiro,fill='0')\n",
    "    proximo_convertido = \"{0:{fill}4b}\".format(proximo_inteiro,fill='0')\n",
    "    #print(entrada_convertida,proximo_convertido)\n",
    "    linha = entrada+entrada_convertida+proximo_convertido+saida\n",
    "    doisis.append(linha)\n",
    "    #print(doisis[i])\n",
    "    print(entrada_convertida, proximo_convertido)\n",
    "print(\"---------------\")\n",
    "\n",
    "#print(doisis)\n"
   ]
  },
  {
   "cell_type": "code",
   "execution_count": 16,
   "metadata": {},
   "outputs": [
    {
     "data": {
      "text/plain": [
       "{'--10--000001010',\n",
       " '--10-0-00001010',\n",
       " '--100--00001010',\n",
       " '-00010000000101',\n",
       " '0-0000100000101',\n",
       " '000000000000101',\n",
       " '000001100000110',\n",
       " '000011000001001',\n",
       " '0100-0001000101',\n",
       " '010001-00110101',\n",
       " '010010-01000101',\n",
       " '10000-000010101',\n",
       " '100000-00010101',\n",
       " '100010101100101',\n",
       " '100011001100101',\n",
       " '11000-100100101',\n",
       " '110001-00100101',\n",
       " '11001-001010101',\n",
       " '110010-01010101'}"
      ]
     },
     "execution_count": 16,
     "metadata": {},
     "output_type": "execute_result"
    }
   ],
   "source": [
    "qm.simplify_los(doisis)"
   ]
  },
  {
   "cell_type": "code",
   "execution_count": 22,
   "metadata": {},
   "outputs": [
    {
     "name": "stdout",
     "output_type": "stream",
     "text": [
      "1000000000011000\n",
      "0100000000010100\n",
      "0010000000010010\n",
      "0001000000010001\n",
      "0000000000010000\n",
      "11--000000010000\n",
      "1-1-000000010000\n",
      "1--1000000010000\n",
      "-11-000000010000\n",
      "-1-1000000010000\n",
      "--11000000010000\n",
      "1000000100101000\n",
      "0100000100100100\n",
      "0010000100100010\n",
      "0001000100100001\n",
      "1100000100101100\n",
      "1010000100101010\n",
      "1001000100101001\n",
      "0110000100100000\n",
      "0000000100100000\n",
      "0011000100100011\n",
      "0101000100100101\n",
      "0111000100100001\n",
      "1011000100101011\n",
      "1101000100101101\n",
      "1110000100101000\n",
      "1111000100101001\n",
      "1000001000111000\n",
      "0100001000110100\n",
      "0010001000110010\n",
      "0001001000110001\n",
      "0000001000110000\n",
      "11--001000110000\n",
      "1-1-001000110000\n",
      "1--1001000110000\n",
      "-11-001000110000\n",
      "-1-1001000110000\n",
      "--11001000110000\n",
      "1000001100001000\n",
      "0100001100000100\n",
      "0010001100000010\n",
      "0001001100000001\n",
      "0000001100000000\n",
      "11--001100000000\n",
      "1-1-001100000000\n",
      "1--1001100000000\n",
      "-11-001100000000\n",
      "-1-1001100000000\n",
      "--11001100000000\n",
      "---------------\n",
      "implicantes: 214\n",
      "termos: 49\n"
     ]
    }
   ],
   "source": [
    "#exemplo utilizando o arquivo lion9.kiss2\n",
    "temp = open('tav.kiss2')\n",
    "l = []\n",
    "entrada = []\n",
    "saida = []\n",
    "\n",
    "atual = []\n",
    "atual_inteiro = []\n",
    "entrada_convertida = []\n",
    "\n",
    "proximo = []\n",
    "proximo_inteiro = []\n",
    "proximo_convertido = []\n",
    "tresis = []\n",
    "\n",
    "line_char = temp.readlines()\n",
    "l = line_char[5:]\n",
    "for i in range(len(l)):\n",
    "    entrada = l[i].split()[0]\n",
    "    saida = l[i].split()[3]\n",
    "    atual = l[i].split()[1]\n",
    "    proximo = l[i].split()[2]\n",
    "    atual_inteiro = int(atual[2])\n",
    "    proximo_inteiro = int(proximo[2])\n",
    "    #print(valor_inteiro)\n",
    "    entrada_convertida = \"{0:{fill}4b}\".format(atual_inteiro,fill='0')\n",
    "    proximo_convertido = \"{0:{fill}4b}\".format(proximo_inteiro,fill='0')\n",
    "    #print(entrada_convertida,proximo_convertido)\n",
    "    linha = entrada+entrada_convertida+proximo_convertido+saida\n",
    "    tresis.append(linha)\n",
    "    print(tresis[i])\n",
    "    #print(entrada_convertida, proximo_convertido)\n",
    "print(\"---------------\")\n",
    "\n",
    "contador_implicantes = 0\n",
    "contador_termos = 0\n",
    "\n",
    "for i in range(len(tresis)):\n",
    "    contador_termos += 1\n",
    "    for j in range(len(tresis[i])):\n",
    "        if (tresis[i][j] == '1'):\n",
    "            contador_implicantes += 1\n",
    "            \n",
    "print(\"implicantes:\",contador_implicantes)\n",
    "print(\"termos:\",contador_termos)\n",
    "#print(doisis)\n"
   ]
  },
  {
   "cell_type": "code",
   "execution_count": 23,
   "metadata": {},
   "outputs": [
    {
     "name": "stdout",
     "output_type": "stream",
     "text": [
      "1000000000011000 0101000100100101\n",
      "0100000000010100 1001000100101001\n",
      "0010000000010010 0010001100000010\n",
      "0001000000010001 -11-000000010000\n",
      "0000000000010000 1-1-000000010000\n",
      "11--000000010000 0111000100100001\n",
      "1-1-000000010000 1010000100101010\n",
      "1--1000000010000 1000000100101000\n",
      "-11-000000010000 0100000100100100\n",
      "-1-1000000010000 0001001100000001\n",
      "--11000000010000 --11000000010000\n",
      "1000000100101000 1000001000111000\n",
      "0100000100100100 -11-001000110000\n",
      "0010000100100010 -1-1001100000000\n",
      "0001000100100001 1--1001100000000\n",
      "1100000100101100 -11-001100000000\n",
      "1010000100101010 -1-1000000010000\n",
      "1001000100101001 0011000100100011\n",
      "0110000100100000 0001000100100001\n",
      "0000000100100000 0001000000010001\n",
      "0011000100100011 0100001100000100\n",
      "0101000100100101 0110000100100000\n",
      "0111000100100001 0000000100100000\n",
      "1011000100101011 -1-1001000110000\n",
      "1101000100101101 1101000100101101\n",
      "1110000100101000 0000001100000000\n",
      "1111000100101001 1100000100101100\n",
      "1000001000111000 0000000000010000\n",
      "0100001000110100 1--1000000010000\n",
      "0010001000110010 1--1001000110000\n",
      "0001001000110001 --11001000110000\n",
      "0000001000110000 11--000000010000\n",
      "11--001000110000 1011000100101011\n",
      "1-1-001000110000 1000001100001000\n",
      "1--1001000110000 0100001000110100\n",
      "-11-001000110000 0010000000010010\n",
      "-1-1001000110000 11--001100000000\n",
      "--11001000110000 0100000000010100\n",
      "1000001100001000 0010001000110010\n",
      "0100001100000100 11--001000110000\n",
      "0010001100000010 --11001100000000\n",
      "0001001100000001 1111000100101001\n",
      "0000001100000000 0010000100100010\n",
      "11--001100000000 0000001000110000\n",
      "1-1-001100000000 1-1-001100000000\n",
      "1--1001100000000 1110000100101000\n",
      "-11-001100000000 0001001000110001\n",
      "-1-1001100000000 1-1-001000110000\n",
      "--11001100000000 1000000000011000\n",
      "49 49\n"
     ]
    }
   ],
   "source": [
    "treisis_simplificado =  list(qm.simplify_los(tresis))\n",
    "lista = tresis\n",
    "for i in range(len(treisis_simplificado)):\n",
    "    print(lista[i],treisis_simplificado[i])\n",
    "\n",
    "print(len(lista), len(treisis_simplificado))"
   ]
  },
  {
   "cell_type": "code",
   "execution_count": 19,
   "metadata": {},
   "outputs": [
    {
     "name": "stdout",
     "output_type": "stream",
     "text": [
      "19.931568569324174\n"
     ]
    }
   ],
   "source": [
    "resultado = np.log2(1000000)\n",
    "#type(resultado)\n",
    "print(resultado)"
   ]
  },
  {
   "cell_type": "code",
   "execution_count": 21,
   "metadata": {},
   "outputs": [],
   "source": [
    "# essa parte faz a criação da MSF com as atribuições permutadas\n",
    "# o ponto importante dessa parte é a transformação da tabela inicial em uma com valores \n",
    "# permutados mantendo a relação estado inicial e próximo estado.\n",
    "import math\n",
    "from random import shuffle\n",
    "temp = open('tav.kiss2')\n",
    "estados = []\n",
    "line_char = temp.readlines()\n",
    "estados = line_char[4:5]\n",
    "\n",
    "l = line_char[5:]\n",
    "\n",
    "tabela_estados = []\n",
    "tabela_convertida = []\n",
    "nova_tabela_estados = []\n",
    "\n",
    "atual_convertido = []\n",
    "proximo_convertido = []\n",
    "\n",
    "\n",
    "espaco_busca = []\n",
    "espaco_aleatorio = []\n",
    "estados_convertido = int(estados[0].split()[1])\n",
    "tamanho_espaco_busca = math.ceil(np.log2(estados_convertido))\n",
    "#print(tamanho_espaco_busca)\n",
    "#type(estados_convertido)\n",
    "for i in range (tamanho_espaco_busca**2):\n",
    "    espaco_busca.append(bin(i)[2:].zfill(tamanho_espaco_busca))\n",
    "    #espaco_aleatorio.append(bin(i)[2:].zfill(tamanho_espaco_busca))\n",
    "\n",
    "for i in range(len(l)):\n",
    "    atual = l[i].split()[1]\n",
    "    proximo = l[i].split()[2]\n",
    "    atual_inteiro = int(atual[2])\n",
    "    proximo_inteiro = int(proximo[2])\n",
    "    atual_convertido.append(bin(atual_inteiro)[2:].zfill(tamanho_espaco_busca))\n",
    "    proximo_convertido.append(bin(proximo_inteiro)[2:].zfill(tamanho_espaco_busca))\n",
    "    #tabela_estados.append(atual_convertido+\" \"+proximo_convertido)\n",
    "    #print(tabela_estados[i])\n",
    "#print(\"busca       \",espaco_busca)\n",
    "espaco_aleatorio = espaco_busca.copy()\n",
    "shuffle(espaco_aleatorio)\n",
    "#print(\"espaco busca\", espaco_busca)\n",
    "#print(\"aleatorio   \", espaco_aleatorio)\n",
    "\n",
    "for i in range(len(espaco_aleatorio)):\n",
    "    #print(espaco_busca[i], espaco_aleatorio[i])\n",
    "    tabela_convertida.append(espaco_busca[i] +\" \"+ espaco_aleatorio[i])\n",
    "\n",
    "#print(tabela_convertida)\n",
    "\n",
    "def correspondente(palavra):\n",
    "    for i in range(len(espaco_busca)):\n",
    "        if palavra == espaco_busca[i]:\n",
    "            return espaco_aleatorio[i]\n",
    "\n",
    "novo_atual = []\n",
    "novo_proximo = []\n",
    "        \n",
    "for i in range(len(l)):\n",
    "    #print(atual_convertido[i],proximo_convertido[i])\n",
    "    novo_atual.append(correspondente(atual_convertido[i]))\n",
    "    novo_proximo.append(correspondente(proximo_convertido[i]))\n",
    "\n",
    "    \n",
    "\n",
    "    \n",
    "#for i in range(len(l)):\n",
    "#    print(atual_convertido[i],proximo_convertido[i], \"-->\",novo_atual[i],novo_proximo[i])"
   ]
  },
  {
   "cell_type": "code",
   "execution_count": null,
   "metadata": {},
   "outputs": [],
   "source": [
    "treisis_simplificado =  list(qm.simplify_los(tresis))\n",
    "lista = tresis\n",
    "for i in range(len(treisis_simplificado)):\n",
    "    print(lista[i],treisis_simplificado[i])\n",
    "\n",
    "print(len(lista), len(treisis_simplificado))"
   ]
  }
 ],
 "metadata": {
  "kernelspec": {
   "display_name": "Python 3",
   "language": "python",
   "name": "python3"
  },
  "language_info": {
   "codemirror_mode": {
    "name": "ipython",
    "version": 3
   },
   "file_extension": ".py",
   "mimetype": "text/x-python",
   "name": "python",
   "nbconvert_exporter": "python",
   "pygments_lexer": "ipython3",
   "version": "3.7.7"
  }
 },
 "nbformat": 4,
 "nbformat_minor": 4
}
