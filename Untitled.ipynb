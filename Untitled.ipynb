{
 "cells": [
  {
   "cell_type": "code",
   "execution_count": 25,
   "id": "28c04b13",
   "metadata": {},
   "outputs": [],
   "source": [
    "def porcentagem(custoOutro,custoSa):\n",
    "    return ((custoOutro-custoSa)/custoSa)*100"
   ]
  },
  {
   "cell_type": "code",
   "execution_count": 27,
   "id": "b58b79cf",
   "metadata": {},
   "outputs": [],
   "source": [
    "GESA = [432 ,900 ,120 ,198, 1480, 840, 1457 ,55, 108, 2849, 2470, 3901, 48, 875, 3854, 162, 147]\n",
    "mus_p = [550, 1122 ,195, 228, 1485, 980, 3317 ,77, 195, 3108, 3182 ,5060 ,48 ,1122, 5117 ,198, 238]\n",
    "mus_n = [572 ,1089 ,150 ,228 ,1584 ,1020, 1798, 77 ,195 ,3552, 2886 ,5014, 72 ,1089, 4945, 198 ,238]\n",
    "nova_eig = [550 ,990, 180, 228 ,1485, 960 ,1705, 66 ,180 ,3219 ,2960, 4692, 96, 990, 4429, 198 ,204]\n",
    "nova_eioh = [572, 1089, 165 ,228 ,1815 ,940, 3162, 88, 180, 2775 ,2701, 4554, 48, 1089, 4558, 198 ,187]\n",
    "jedi_eo = [616 ,1122 ,165, 209, 1947, 900, 1798, 88 ,165, 3182, 1813 ,4876, 132, 1188 ,4816, 198, 221]\n",
    "jedi_ec = [594 ,1089, 195, 228 ,1980, 620 ,1860 ,77, 180 ,2923, 2479, 4830, 96, 1122, 4644, 198 ,187]\n",
    "SA = [519,  924, 123 ,276, 1518, 750, 1379, 66, 178 ,2902, 2587 ,4600, 48, 990, 4314, 180, 199]"
   ]
  },
  {
   "cell_type": "code",
   "execution_count": 44,
   "id": "1ab24fdd",
   "metadata": {},
   "outputs": [
    {
     "name": "stdout",
     "output_type": "stream",
     "text": [
      "____________Gesa_____________________________________-\n",
      "-16.763 &\n",
      "-2.597 &\n",
      "-2.439 &\n",
      "-28.261 &\n",
      "-2.503 &\n",
      "12.0 &\n",
      "5.656 &\n",
      "-16.667 &\n",
      "-39.326 &\n",
      "-1.826 &\n",
      "-4.523 &\n",
      "-15.196 &\n",
      "0.0 &\n",
      "-11.616 &\n",
      "-10.663 &\n",
      "-10.0 &\n",
      "-26.131 &\n",
      "___________mus_p______________________________________-\n",
      "5.973 &\n",
      "21.429 &\n",
      "58.537 &\n",
      "-17.391 &\n",
      "-2.174 &\n",
      "30.667 &\n",
      "140.537 &\n",
      "16.667 &\n",
      "9.551 &\n",
      "7.099 &\n",
      "23.0 &\n",
      "10.0 &\n",
      "0.0 &\n",
      "13.333 &\n",
      "18.614 &\n",
      "10.0 &\n",
      "19.598 &\n",
      "____________mus_n_____________________________________-\n",
      "10.212 &\n",
      "17.857 &\n",
      "21.951 &\n",
      "-17.391 &\n",
      "4.348 &\n",
      "36.0 &\n",
      "30.384 &\n",
      "16.667 &\n",
      "9.551 &\n",
      "22.398 &\n",
      "11.558 &\n",
      "9.0 &\n",
      "50.0 &\n",
      "10.0 &\n",
      "14.627 &\n",
      "10.0 &\n",
      "19.598 &\n",
      "_____________nova_eig____________________________________-\n",
      "5.973 &\n",
      "7.143 &\n",
      "46.341 &\n",
      "-17.391 &\n",
      "-2.174 &\n",
      "28.0 &\n",
      "23.64 &\n",
      "0.0 &\n",
      "1.124 &\n",
      "10.924 &\n",
      "14.418 &\n",
      "2.0 &\n",
      "100.0 &\n",
      "0.0 &\n",
      "2.666 &\n",
      "10.0 &\n",
      "2.513 &\n",
      "_____________nova_eioh____________________________________-\n",
      "10.212 &\n",
      "17.857 &\n",
      "34.146 &\n",
      "-17.391 &\n",
      "19.565 &\n",
      "25.333 &\n",
      "129.297 &\n",
      "33.333 &\n",
      "1.124 &\n",
      "-4.376 &\n",
      "4.407 &\n",
      "-1.0 &\n",
      "0.0 &\n",
      "10.0 &\n",
      "5.656 &\n",
      "10.0 &\n",
      "-6.03 &\n",
      "________________jedi_eo_________________________________-\n",
      "18.69 &\n",
      "21.429 &\n",
      "34.146 &\n",
      "-24.275 &\n",
      "28.261 &\n",
      "20.0 &\n",
      "30.384 &\n",
      "33.333 &\n",
      "-7.303 &\n",
      "9.649 &\n",
      "-29.919 &\n",
      "6.0 &\n",
      "175.0 &\n",
      "20.0 &\n",
      "11.637 &\n",
      "10.0 &\n",
      "11.055 &\n",
      "________________jedi_ec_________________________________-\n",
      "14.451\n",
      "17.857\n",
      "58.537\n",
      "-17.391\n",
      "30.435\n",
      "-17.333\n",
      "34.88\n",
      "16.667\n",
      "1.124\n",
      "0.724\n",
      "-4.175\n",
      "5.0\n",
      "100.0\n",
      "13.333\n",
      "7.65\n",
      "10.0\n",
      "-6.03\n"
     ]
    }
   ],
   "source": [
    "print(\"____________Gesa_____________________________________-\")\n",
    "\n",
    "for i in range(len(SA)):\n",
    "    valor =  round(porcentagem(GESA[i],SA[i]),3)\n",
    "    print (str(valor)+\" &\")\n",
    "print(\"___________mus_p______________________________________-\")\n",
    "for i in range(len(SA)):\n",
    "    valor =  round(porcentagem(mus_p[i],SA[i]),3)\n",
    "    print (str(valor)+\" &\")\n",
    "print(\"____________mus_n_____________________________________-\")\n",
    "\n",
    "for i in range(len(SA)):\n",
    "    valor =  round(porcentagem(mus_n[i],SA[i]),3)\n",
    "    print (str(valor)+\" &\") \n",
    "print(\"_____________nova_eig____________________________________-\")\n",
    "\n",
    "for i in range(len(SA)):\n",
    "    valor =  round(porcentagem(nova_eig[i],SA[i]),3)\n",
    "    print (str(valor)+\" &\")\n",
    "print(\"_____________nova_eioh____________________________________-\")\n",
    "\n",
    "for i in range(len(SA)):\n",
    "    valor =  round(porcentagem(nova_eioh[i],SA[i]),3)\n",
    "    print (str(valor)+\" &\")\n",
    "print(\"________________jedi_eo_________________________________-\")\n",
    "\n",
    "for i in range(len(SA)):\n",
    "    valor =  round(porcentagem(jedi_eo[i],SA[i]),3)\n",
    "    print (str(valor)+\" &\")\n",
    "print(\"________________jedi_ec_________________________________-\")\n",
    "\n",
    "for i in range(len(SA)):\n",
    "    valor =  round(porcentagem(jedi_ec[i],SA[i]),3)\n",
    "    print (str(valor))"
   ]
  },
  {
   "cell_type": "code",
   "execution_count": 23,
   "id": "80bf2f93",
   "metadata": {},
   "outputs": [
    {
     "name": "stdout",
     "output_type": "stream",
     "text": [
      "6.643206591708867\n"
     ]
    }
   ],
   "source": [
    "#valor agregado\n",
    "print(porcentagem(23302,21754))\n",
    "\n",
    "\n"
   ]
  },
  {
   "cell_type": "code",
   "execution_count": 47,
   "id": "b54edc35",
   "metadata": {},
   "outputs": [],
   "source": [
    "def soma(lista):\n",
    "    soma = 0\n",
    "    for i in lista:\n",
    "        soma = soma + i\n",
    "    return soma\n"
   ]
  },
  {
   "cell_type": "code",
   "execution_count": 61,
   "id": "48601c62",
   "metadata": {},
   "outputs": [
    {
     "name": "stdout",
     "output_type": "stream",
     "text": [
      "21553\n",
      "19896\n",
      "26222\n",
      "24707\n",
      "23132\n",
      "24349\n",
      "23436\n",
      "23302\n"
     ]
    }
   ],
   "source": [
    "print(soma(SA))\n",
    "print(soma(GESA))\n",
    "print(soma(mus_p))\n",
    "print(soma(mus_n))\n",
    "print(soma(nova_eig))\n",
    "print(soma(nova_eioh))\n",
    "print(soma(jedi_eo))\n",
    "print(soma(jedi_ec))\n",
    "\n"
   ]
  },
  {
   "cell_type": "code",
   "execution_count": 62,
   "id": "b7fa3724",
   "metadata": {},
   "outputs": [
    {
     "name": "stdout",
     "output_type": "stream",
     "text": [
      "-7.6880248689277595\n",
      "21.66287755764859\n",
      "14.63369368533383\n",
      "7.326126293323436\n",
      "12.972672017816544\n",
      "8.736602793114647\n",
      "8.114879599127732\n"
     ]
    }
   ],
   "source": [
    "print(porcentagem(soma(GESA),soma(SA)))\n",
    "print(porcentagem(soma(mus_p),soma(SA)))\n",
    "print(porcentagem(soma(mus_n),soma(SA)))\n",
    "print(porcentagem(soma(nova_eig),soma(SA)))\n",
    "print(porcentagem(soma(nova_eioh),soma(SA)))\n",
    "print(porcentagem(soma(jedi_eo),soma(SA)))\n",
    "print(porcentagem(soma(jedi_ec),soma(SA)))\n"
   ]
  },
  {
   "cell_type": "code",
   "execution_count": null,
   "id": "1ea648e6",
   "metadata": {},
   "outputs": [],
   "source": []
  },
  {
   "cell_type": "code",
   "execution_count": null,
   "id": "2f43600f",
   "metadata": {},
   "outputs": [],
   "source": []
  }
 ],
 "metadata": {
  "kernelspec": {
   "display_name": "Python 3",
   "language": "python",
   "name": "python3"
  },
  "language_info": {
   "codemirror_mode": {
    "name": "ipython",
    "version": 3
   },
   "file_extension": ".py",
   "mimetype": "text/x-python",
   "name": "python",
   "nbconvert_exporter": "python",
   "pygments_lexer": "ipython3",
   "version": "3.7.7"
  }
 },
 "nbformat": 4,
 "nbformat_minor": 5
}
