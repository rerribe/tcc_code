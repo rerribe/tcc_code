{
 "cells": [
  {
   "cell_type": "code",
   "execution_count": 2,
   "id": "be38ddf7",
   "metadata": {},
   "outputs": [],
   "source": [
    "def porcentagem(custoOutro,custoSa):\n",
    "    return ((custoOutro-custoSa)/custoSa)*100"
   ]
  },
  {
   "cell_type": "code",
   "execution_count": 5,
   "id": "9e15ed78",
   "metadata": {},
   "outputs": [
    {
     "name": "stdout",
     "output_type": "stream",
     "text": [
      "bbara -20.13888888888889\n",
      "bbsse -6.333333333333334\n",
      "bbtas -2.5\n",
      "beecout -39.39393939393939\n",
      "cse -4.797297297297297\n",
      "donfile 10.714285714285714\n",
      "keyb 5.353466026080989\n",
      "lion -20.0\n",
      "modulo12 -64.81481481481481\n",
      "s1 -14.009661835748794\n",
      "s1a -7.57085020242915\n",
      "sand -17.918482440399895\n",
      "shiftreg 0.0\n",
      "sse -16.914285714285715\n",
      "styr -13.57769747031492\n",
      "tav -11.11111111111111\n",
      "train11 -46.25850340136054\n"
     ]
    }
   ],
   "source": [
    "print(\"bbara\",porcentagem(432,519))\n",
    "print(\"bbsse\",porcentagem(900,957))\n",
    "print(\"bbtas\",porcentagem(120,123))\n",
    "print(\"beecout\",porcentagem(198,276))\n",
    "print(\"cse\",porcentagem(1480,1551))\n",
    "print(\"donfile\",porcentagem(840,750))\n",
    "print(\"keyb\",porcentagem(1457,1379))\n",
    "print(\"lion\",porcentagem(55,66))\n",
    "print(\"modulo12\",porcentagem(108,178))\n",
    "print(\"s1\",porcentagem(2484,2832))\n",
    "print(\"s1a\",porcentagem(2470,2657))\n",
    "print(\"sand\",porcentagem(3901,4600))\n",
    "print(\"shiftreg\",porcentagem(48,48))\n",
    "print(\"sse\",porcentagem(875,1023))\n",
    "print(\"styr\",porcentagem(3874,4400))\n",
    "print(\"tav\",porcentagem(162,180))\n",
    "print(\"train11\",porcentagem(147,215))\n"
   ]
  },
  {
   "cell_type": "code",
   "execution_count": 13,
   "id": "ccfd3b80",
   "metadata": {},
   "outputs": [
    {
     "name": "stdout",
     "output_type": "stream",
     "text": [
      "['31.628 &', '-10.698 &', '-10.698 &', '5.116 &', '13.023 &', '-2.791 &', '13.023 &']\n"
     ]
    }
   ],
   "source": [
    "lista = [ 147, 238 , 238 , 204 , 187 , 221 , 187]\n",
    "lista2 = []\n",
    "for i in lista:\n",
    "    valor =  round(porcentagem(215,i),3)\n",
    "    lista2.append(str(valor)+\" &\")\n",
    "\n",
    "print(lista2)"
   ]
  },
  {
   "cell_type": "code",
   "execution_count": 23,
   "id": "9287fc07",
   "metadata": {},
   "outputs": [
    {
     "name": "stdout",
     "output_type": "stream",
     "text": [
      "6.643206591708867\n"
     ]
    }
   ],
   "source": [
    "#valor agregado\n",
    "print(porcentagem(23302,21754))\n",
    "\n",
    "\n"
   ]
  },
  {
   "cell_type": "code",
   "execution_count": null,
   "id": "1713c584",
   "metadata": {},
   "outputs": [],
   "source": []
  }
 ],
 "metadata": {
  "kernelspec": {
   "display_name": "Python 3",
   "language": "python",
   "name": "python3"
  },
  "language_info": {
   "codemirror_mode": {
    "name": "ipython",
    "version": 3
   },
   "file_extension": ".py",
   "mimetype": "text/x-python",
   "name": "python",
   "nbconvert_exporter": "python",
   "pygments_lexer": "ipython3",
   "version": "3.7.7"
  }
 },
 "nbformat": 4,
 "nbformat_minor": 5
}
