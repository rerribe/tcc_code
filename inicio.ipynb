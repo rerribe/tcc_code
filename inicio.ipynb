{
 "cells": [
  {
   "cell_type": "code",
   "execution_count": 1,
   "metadata": {},
   "outputs": [],
   "source": [
    "%matplotlib inline\n",
    "import os\n",
    "import sys\n",
    "import string\n",
    "import numpy as np\n",
    "import matplotlib.pyplot as plt\n",
    "from sympy import *\n",
    "from qm import*\n",
    "from math import*\n",
    "from random import shuffle\n",
    "\n",
    "plt.rcParams['figure.figsize'] = (15,5)\n",
    "\n",
    "qm = QuineMcCluskey()"
   ]
  },
  {
   "cell_type": "code",
   "execution_count": 2,
   "metadata": {},
   "outputs": [
    {
     "ename": "SyntaxError",
     "evalue": "invalid syntax (<ipython-input-2-a56c54cb8a23>, line 95)",
     "output_type": "error",
     "traceback": [
      "\u001b[0;36m  File \u001b[0;32m\"<ipython-input-2-a56c54cb8a23>\"\u001b[0;36m, line \u001b[0;32m95\u001b[0m\n\u001b[0;31m    for i in range(matriz_literais[i][])\u001b[0m\n\u001b[0m                                      ^\u001b[0m\n\u001b[0;31mSyntaxError\u001b[0m\u001b[0;31m:\u001b[0m invalid syntax\n"
     ]
    }
   ],
   "source": [
    "temp = open('s1.kiss2')\n",
    "line_char = temp.readlines()\n",
    "l = []\n",
    "entrada = []\n",
    "lista_entradas = []\n",
    "saida = []\n",
    "lista_saidas = []\n",
    "\n",
    "estados = []\n",
    "estados = line_char[4:5]\n",
    "\n",
    "atual = []\n",
    "atual_inteiro = []\n",
    "atual_convertido = []\n",
    "\n",
    "proximo = []\n",
    "proximo_inteiro = []\n",
    "proximo_convertido = []\n",
    "\n",
    "espaco_busca = []\n",
    "espaco_aleatorio = []\n",
    "estados_convertido = int(estados[0].split()[1])\n",
    "\n",
    "tamanho_espaco_busca = math.ceil(np.log2(estados_convertido))\n",
    "print(\"tamanho do espaço de busca é:\",tamanho_espaco_busca)\n",
    "\n",
    "msf_pronta = []\n",
    "\n",
    "l = line_char[5:]\n",
    "\n",
    "for i in range(len(l)):\n",
    "    entrada = l[i].split()[0]\n",
    "    lista_entradas.append(entrada)\n",
    "    \n",
    "    atual = l[i].split()[1]\n",
    "    proximo = l[i].split()[2]\n",
    "    saida = l[i].split()[3]\n",
    "    lista_saidas.append(saida)\n",
    "    \n",
    "    atual_inteiro = int(atual[2:])\n",
    "    proximo_inteiro = int(proximo[2:])\n",
    "    atual_convertido.append(bin(atual_inteiro)[2:].zfill(tamanho_espaco_busca))\n",
    "    #atual_binario = atual_convertido[i]\n",
    "    proximo_convertido.append(bin(proximo_inteiro)[2:].zfill(tamanho_espaco_busca))\n",
    "    #proximo_binario = proximo_convertido[i]\n",
    "    linha = entrada+atual_convertido[i]+proximo_convertido[i]+saida\n",
    "    #print(linha)\n",
    "    msf_pronta.append(linha)\n",
    "    #print(msf_pronta[i])\n",
    "\n",
    "#print(msf_pronta)\n",
    "\n",
    "#-------------cria espaço de busca-----------------------------------\n",
    "for i in range (tamanho_espaco_busca**2):\n",
    "    espaco_busca.append(bin(i)[2:].zfill(tamanho_espaco_busca))\n",
    "    #espaco_aleatorio.append(bin(i)[2:].zfill(tamanho_espaco_busca))\n",
    "    \n",
    "    \n",
    "\n",
    "def calculo_peso(lista_1):\n",
    "    contador_dc = 0\n",
    "    contador_termo = 0\n",
    "    contador_literal = 0\n",
    "    #tamanho_calculo = len(tamanho_espaco_busca)+len(saida)\n",
    "    #para_calculo = lista_l[:tamanho_calculo]\n",
    "    for i in range(len(lista_1)):\n",
    "        contador_termo += 1\n",
    "        for j in range(len(lista_1[i])):\n",
    "            contador_literal +=1\n",
    "            if (lista_1[i][j] == '-'):\n",
    "                contador_dc += 1\n",
    "    return (contador_termo+contador_literal)-contador_dc\n",
    "\n",
    "\n",
    "\n",
    "def prepara_lista(lista):\n",
    "    #tamanho_calculo = len(entrada)\n",
    "    para_calculo = []\n",
    "    #print(len(entrada),len(atual_convertido[1]),len(proximo_convertido[1]),len(saida), len(lista[1]))\n",
    "    for i in range(len(lista)):\n",
    "        para_calculo.append(lista[i][len(entrada):-(len(saida))])\n",
    "    return calculo_peso(para_calculo)\n",
    "\n",
    "def calculo_custo(lista):\n",
    "    tamanho_calculo = len(entrada)+tamanho_espaco_busca\n",
    "    tamanho_calc_saida = len(saida)+tamanho_espaco_busca\n",
    "    \n",
    "    for i in range(len(lista)):\n",
    "        matriz_saida.append(lista[i][tamanho_calculo:-saida])\n",
    "        matriz_literais.append(lista[i][:-tamanho_calc_saida])\n",
    "        \n",
    "    for i in range(len(matriz_saida)):\n",
    "        for j in range(len(matriz_saida[i])):\n",
    "            if matriz_saida[i][j] == '1':\n",
    "                for i in range(matriz_literais[i][])\n",
    "    \n",
    "    \n",
    "\n",
    "#print(msf_pronta[1][:len(proximo)])\n",
    "print(len(entrada),len(atual_convertido[i]),len(proximo_convertido[i]),len(saida))\n",
    "print(len(entrada)+len(atual)+len(proximo)+len(saida))\n",
    "\n",
    "tamanho_entrada = len(entrada)\n",
    "tamanho_atual = tamanho_espaco_busca\n",
    "tamanho_proximo = tamanho_espaco_busca\n",
    "tamanho_saida = int(saida)\n",
    "\n",
    "tamanho_calculo = tamanho_entrada+tamanho_espaco_busca\n",
    "tamanho_calc_saida = len(saida)+tamanho_espaco_busca\n",
    "\n",
    "print(msf_pronta[3][:-tamanho_calc_saida])\n",
    "\n",
    "#print(prepara_lista(msf_pronta))\n",
    "#for i in range(len(msf_pronta)):\n",
    "#    print(msf_pronta[i])\n"
   ]
  },
  {
   "cell_type": "code",
   "execution_count": 3,
   "metadata": {},
   "outputs": [
    {
     "ename": "NameError",
     "evalue": "name 'tamanho_espaco_busca' is not defined",
     "output_type": "error",
     "traceback": [
      "\u001b[0;31m---------------------------------------------------------------------------\u001b[0m",
      "\u001b[0;31mNameError\u001b[0m                                 Traceback (most recent call last)",
      "\u001b[0;32m<ipython-input-3-3d07b97030fe>\u001b[0m in \u001b[0;36m<module>\u001b[0;34m\u001b[0m\n\u001b[0;32m----> 1\u001b[0;31m \u001b[0;32mfor\u001b[0m \u001b[0mi\u001b[0m \u001b[0;32min\u001b[0m \u001b[0mrange\u001b[0m \u001b[0;34m(\u001b[0m\u001b[0mtamanho_espaco_busca\u001b[0m\u001b[0;34m**\u001b[0m\u001b[0;36m2\u001b[0m\u001b[0;34m)\u001b[0m\u001b[0;34m:\u001b[0m\u001b[0;34m\u001b[0m\u001b[0;34m\u001b[0m\u001b[0m\n\u001b[0m\u001b[1;32m      2\u001b[0m         \u001b[0mespaco_busca\u001b[0m\u001b[0;34m.\u001b[0m\u001b[0mappend\u001b[0m\u001b[0;34m(\u001b[0m\u001b[0mbin\u001b[0m\u001b[0;34m(\u001b[0m\u001b[0mi\u001b[0m\u001b[0;34m)\u001b[0m\u001b[0;34m[\u001b[0m\u001b[0;36m2\u001b[0m\u001b[0;34m:\u001b[0m\u001b[0;34m]\u001b[0m\u001b[0;34m.\u001b[0m\u001b[0mzfill\u001b[0m\u001b[0;34m(\u001b[0m\u001b[0mtamanho_espaco_busca\u001b[0m\u001b[0;34m)\u001b[0m\u001b[0;34m)\u001b[0m\u001b[0;34m\u001b[0m\u001b[0;34m\u001b[0m\u001b[0m\n\u001b[1;32m      3\u001b[0m         \u001b[0;31m#espaco_aleatorio.append(bin(i)[2:].zfill(tamanho_espaco_busca))\u001b[0m\u001b[0;34m\u001b[0m\u001b[0;34m\u001b[0m\u001b[0;34m\u001b[0m\u001b[0m\n\u001b[1;32m      4\u001b[0m \u001b[0;32mdef\u001b[0m \u001b[0mcria_nova_msf\u001b[0m\u001b[0;34m(\u001b[0m\u001b[0;34m)\u001b[0m\u001b[0;34m:\u001b[0m\u001b[0;34m\u001b[0m\u001b[0;34m\u001b[0m\u001b[0m\n\u001b[1;32m      5\u001b[0m     \u001b[0;31m#print(tamanho_espaco_busca)\u001b[0m\u001b[0;34m\u001b[0m\u001b[0;34m\u001b[0m\u001b[0;34m\u001b[0m\u001b[0m\n",
      "\u001b[0;31mNameError\u001b[0m: name 'tamanho_espaco_busca' is not defined"
     ]
    }
   ],
   "source": [
    "for i in range (tamanho_espaco_busca**2):\n",
    "        espaco_busca.append(bin(i)[2:].zfill(tamanho_espaco_busca))\n",
    "        #espaco_aleatorio.append(bin(i)[2:].zfill(tamanho_espaco_busca))\n",
    "def cria_nova_msf():\n",
    "    #print(tamanho_espaco_busca)\n",
    "    espaco_aleatorio = espaco_busca.copy()\n",
    "    shuffle(espaco_aleatorio)\n",
    "    return set(espaco_aleatorio)\n",
    "#for i in range(10):\n",
    "#    print(i)\n",
    "#    print(cria_nova_msf())\n",
    "    #print(lista)\n",
    "nova_msf = []\n",
    "def correspondente(palavra):\n",
    "    espaco_aleatorio = list(cria_nova_msf())\n",
    "    for i in range(len(espaco_busca)):\n",
    "        if palavra == espaco_busca[i]:\n",
    "            return espaco_aleatorio[i]\n",
    "\n",
    "def nova_maquina():\n",
    "    novo_atual = []\n",
    "    novo_proximo = []\n",
    "    nova_msf = []\n",
    "    nova_atrib = []\n",
    "    for i in range(len(l)):\n",
    "        #print(atual_convertido[i],proximo_convertido[i])\n",
    "        novo_atual.append(correspondente(atual_convertido[i]))\n",
    "        novo_proximo.append(correspondente(proximo_convertido[i]))\n",
    "        nova_atrib = str(lista_entradas[i])+str(novo_atual[i])+str(novo_proximo[i])+str(lista_saidas[i])\n",
    "        nova_msf.append(nova_atrib)    \n",
    "    return  set(nova_msf)\n",
    "\n",
    "def simplifica(lista):\n",
    "    nova_lista = [] \n",
    "    for i in range(len(lista)):\n",
    "        nova_lista.append(lista[i][:-len(saida)])\n",
    "    nova_lista_simplificada = list(qm.simplify_los(nova_lista))\n",
    "    for i in range(len(nova_lista_simplificada)):\n",
    "        nova_lista_simplificada.append(lista[i][:len(saida)])\n",
    "    return nova_lista_simplificada\n",
    "\n",
    "#teste = list(simplifica(msf_pronta))\n",
    "\n",
    "print(prepara_lista(teste))\n",
    "print(teste)\n",
    "\n",
    "so_saida = len(saida)\n",
    "print(so_saida)\n",
    "for i in range(len(l)):\n",
    "    print(msf_pronta[i][:])\n",
    "    \n",
    "#print(nova_msf)\n",
    "\n",
    "#print(len(msf_pronta),\"->\",len(nova_msf))    \n",
    "#for i in range(len(nova_msf)):\n",
    "#    print(msf_pronta[i],\"->\",nova_msf[i])"
   ]
  },
  {
   "cell_type": "code",
   "execution_count": null,
   "metadata": {},
   "outputs": [],
   "source": [
    "#teste lista\n",
    "\n",
    "teste = []\n",
    "teste = nova_maquina()\n",
    "nova_solucao = []\n",
    "\n",
    "temperatura_final = 1\n",
    "#print(melhor)\n",
    "#for i in range(10):\n",
    "#    nova_solucao = nova_maquina()\n",
    "#    #print(i)\n",
    "#    #print(len(nova_solucao))\n",
    "#    nova_solucao_simplificada = list(qm.simplify_los(nova_solucao))\n",
    "#    print(prepara_lista(melhor),\"->\",prepara_lista(nova_solucao_simplificada))\n",
    "#    print(\"nova:\",nova_solucao_simplificada)\n",
    "#    if(prepara_lista(nova_solucao_simplificada) < prepara_lista(melhor)):\n",
    "#        melhor = nova_solucao_simplificada\n",
    "#    print(\"melhor:\",melhor)\n",
    "\n",
    "def simulated_annealing(temperatura):\n",
    "    melhor = list(qm.simplify_los(msf_pronta))\n",
    "    historico = [prepara_lista(melhor)]\n",
    "    while temperatura > temperatura_final:\n",
    "        for i in range(10):\n",
    "            nova_solucao = nova_maquina()\n",
    "            #np.warnings.filterwarnings('ignore')\n",
    "            nova_solucao_simplificada = list(qm.simplify_los(nova_solucao))\n",
    "            probabilidade = np.random.normal()\n",
    "            if (prepara_lista(nova_solucao_simplificada) - prepara_lista(melhor)) < 0  or probabilidade < (np.log(-(prepara_lista(nova_solucao_simplificada)) - (prepara_lista(melhor)))/temperatura):\n",
    "                melhor = nova_solucao_simplificada\n",
    "                historico.append(prepara_lista(melhor))\n",
    "        temperatura = temperatura-1\n",
    "    return melhor, historico"
   ]
  },
  {
   "cell_type": "code",
   "execution_count": 15,
   "metadata": {},
   "outputs": [
    {
     "name": "stderr",
     "output_type": "stream",
     "text": [
      "/home/reinaldo/anaconda3/lib/python3.7/site-packages/ipykernel_launcher.py:29: RuntimeWarning: invalid value encountered in log\n"
     ]
    },
    {
     "name": "stdout",
     "output_type": "stream",
     "text": [
      "['-011110', '1101101', '011110-', '11-1110', '1-10001', '0--0011']\n",
      "[49, 33, 28]\n"
     ]
    },
    {
     "data": {
      "text/plain": [
       "[<matplotlib.lines.Line2D at 0x7fbdfaaf01d0>]"
      ]
     },
     "execution_count": 15,
     "metadata": {},
     "output_type": "execute_result"
    },
    {
     "data": {
      "image/png": "[encoded data removed]",
      "text/plain": [
       "<Figure size 1080x360 with 1 Axes>"
      ]
     },
     "metadata": {
      "needs_background": "light"
     },
     "output_type": "display_data"
    }
   ],
   "source": [
    "temperatura = 100\n",
    "resultado, historico = simulated_annealing(temperatura)\n",
    "print(resultado)\n",
    "print(historico)\n",
    "plt.plot(historico)\n",
    "#plt.plot(historico, hv(historico))"
   ]
  },
  {
   "cell_type": "code",
   "execution_count": null,
   "metadata": {},
   "outputs": [],
   "source": []
  },
  {
   "cell_type": "code",
   "execution_count": null,
   "metadata": {},
   "outputs": [],
   "source": []
  }
 ],
 "metadata": {
  "kernelspec": {
   "display_name": "Python 3",
   "language": "python",
   "name": "python3"
  },
  "language_info": {
   "codemirror_mode": {
    "name": "ipython",
    "version": 3
   },
   "file_extension": ".py",
   "mimetype": "text/x-python",
   "name": "python",
   "nbconvert_exporter": "python",
   "pygments_lexer": "ipython3",
   "version": "3.7.7"
  }
 },
 "nbformat": 4,
 "nbformat_minor": 4
}
