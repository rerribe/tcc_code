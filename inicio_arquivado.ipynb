{
 "cells": [
  {
   "cell_type": "code",
   "execution_count": 1,
   "metadata": {},
   "outputs": [],
   "source": [
    "%matplotlib inline\n",
    "import os\n",
    "import sys\n",
    "import string\n",
    "import numpy as np\n",
    "import matplotlib.pyplot as plt\n",
    "from sympy import *\n",
    "from qm import*\n",
    "from math import*\n",
    "from random import shuffle\n",
    "\n",
    "plt.rcParams['figure.figsize'] = (15,5)\n",
    "\n",
    "qm = QuineMcCluskey()"
   ]
  },
  {
   "cell_type": "code",
   "execution_count": 30,
   "metadata": {},
   "outputs": [
    {
     "name": "stdout",
     "output_type": "stream",
     "text": [
      "4\n",
      "['0000', '0001', '0010', '0011', '0100', '0101', '0110', '0111', '1000', '1001', '1010', '1011', '1100', '1101', '1110', '1111']\n"
     ]
    }
   ],
   "source": [
    "temp = open('bbara.kiss2')\n",
    "line_char = temp.readlines()\n",
    "l = []\n",
    "entrada = []\n",
    "lista_entradas = []\n",
    "saida = []\n",
    "lista_saidas = []\n",
    "\n",
    "estados = []\n",
    "estados = line_char[4:5]\n",
    "\n",
    "atual = []\n",
    "atual_inteiro = []\n",
    "atual_convertido = []\n",
    "\n",
    "proximo = []\n",
    "proximo_inteiro = []\n",
    "proximo_convertido = []\n",
    "\n",
    "espaco_busca = []\n",
    "espaco_aleatorio = []\n",
    "estados_convertido = int(estados[0].split()[1])\n",
    "\n",
    "tamanho_espaco_busca = math.ceil(np.log2(estados_convertido))\n",
    "\n",
    "\n",
    "msf_pronta = []\n",
    "\n",
    "l = line_char[5:]\n",
    "\n",
    "for i in range(len(l)):\n",
    "    entrada = l[i].split()[0]\n",
    "    lista_entradas.append(entrada)\n",
    "    \n",
    "    atual = l[i].split()[1]\n",
    "    proximo = l[i].split()[2]\n",
    "    saida = l[i].split()[3]\n",
    "    lista_saidas.append(saida)\n",
    "    \n",
    "    atual_inteiro = int(atual[2:])\n",
    "    proximo_inteiro = int(proximo[2:])\n",
    "    atual_convertido.append(bin(atual_inteiro)[2:].zfill(tamanho_espaco_busca))\n",
    "    #atual_binario = atual_convertido[i]\n",
    "    proximo_convertido.append(bin(proximo_inteiro)[2:].zfill(tamanho_espaco_busca))\n",
    "    #proximo_binario = proximo_convertido[i]\n",
    "    linha = entrada+atual_convertido[i]+proximo_convertido[i]+saida\n",
    "    msf_pronta.append(linha)\n",
    "    #print(msf_pronta[i])\n",
    "\n",
    "#print(msf_pronta)\n",
    "\n",
    "#-------------cria espaço de busca-----------------------------------\n",
    "for i in range (tamanho_espaco_busca**2):\n",
    "    espaco_busca.append(bin(i)[2:].zfill(tamanho_espaco_busca))\n",
    "    #espaco_aleatorio.append(bin(i)[2:].zfill(tamanho_espaco_busca))\n",
    "    \n",
    "#espaco_aleatorio = espaco_busca.copy()\n",
    "#shuffle(espaco_aleatorio)\n",
    "\n",
    "#---mostra qual o estado correspondete na tabela de estados aleatorios\n",
    "#def correspondente(palavra):\n",
    "#    for i in range(len(espaco_busca)):\n",
    "#        if palavra == espaco_busca[i]:\n",
    "#            return espaco_aleatorio[i]\n",
    "#\n",
    "#novo_atual = []\n",
    "#novo_proximo = []\n",
    "#nova_msf = []\n",
    "\n",
    "#for i in range(len(l)):\n",
    "#    #print(atual_convertido[i],proximo_convertido[i])\n",
    "#    novo_atual.append(correspondente(atual_convertido[i]))\n",
    "#    novo_proximo.append(correspondente(proximo_convertido[i]))\n",
    "#    nova_atrib = lista_entradas[i]+novo_atual[i]+novo_proximo[i]+lista_saidas[i]\n",
    "#    nova_msf.append(nova_atrib)\n",
    "    \n",
    "\n",
    "    \n",
    "def calculo_peso(lista_1):\n",
    "    contador_implicante = 0\n",
    "    contador_termo = 0\n",
    "    #tamanho_calculo = len(tamanho_espaco_busca)+len(saida)\n",
    "    #para_calculo = lista_l[:tamanho_calculo]\n",
    "    for i in range(len(lista_1)):\n",
    "        contador_termo += 1\n",
    "        for j in range(len(lista_1[i])):\n",
    "            if (lista_1[i][j] == '1'):\n",
    "                contador_implicante += 1\n",
    "    return contador_implicante+contador_termo\n",
    "\n",
    "def prepara_lista(lista):\n",
    "    tamanho_calculo = len(entrada)+len(atual_convertido[1])\n",
    "    para_calculo = []\n",
    "    #print(len(entrada),len(atual_convertido[1]),len(proximo_convertido[1]),len(saida), len(lista[1]))\n",
    "    for i in range(len(lista)):\n",
    "        para_calculo.append(lista[i][tamanho_calculo:])\n",
    "    return calculo_peso(para_calculo)\n",
    "    \n",
    "\n",
    "#print(prepara_lista(msf_pronta),prepara_lista(nova_msf))\n",
    "#qm.simplify_los(msf_pronta)\n",
    "#primeira_simplificada = list(qm.simplify_los(msf_pronta))\n",
    "#segunda_simplificada = list(qm.simplify_los(nova_msf))\n",
    "#print(prepara_lista(primeira_simplificada),prepara_lista(segunda_simplificada))\n",
    "\n",
    "#for i in range(len(l)):\n",
    "#    print(msf_pronta[i],\"-->\",nova_msf[i])\n",
    "\n",
    "print(tamanho_espaco_busca)\n",
    "print(espaco_busca)"
   ]
  },
  {
   "cell_type": "code",
   "execution_count": 42,
   "metadata": {},
   "outputs": [
    {
     "name": "stdout",
     "output_type": "stream",
     "text": [
      "104\n"
     ]
    }
   ],
   "source": [
    "for i in range (tamanho_espaco_busca**2):\n",
    "        espaco_busca.append(bin(i)[2:].zfill(tamanho_espaco_busca))\n",
    "        #espaco_aleatorio.append(bin(i)[2:].zfill(tamanho_espaco_busca))\n",
    "def cria_nova_msf():\n",
    "    #print(tamanho_espaco_busca)\n",
    "    espaco_aleatorio = espaco_busca.copy()\n",
    "    shuffle(espaco_aleatorio)\n",
    "    return set(espaco_aleatorio)\n",
    "#for i in range(10):\n",
    "#    print(i)\n",
    "#    print(cria_nova_msf())\n",
    "    #print(lista)\n",
    "nova_msf = []\n",
    "def correspondente(palavra):\n",
    "    espaco_aleatorio = list(cria_nova_msf())\n",
    "    for i in range(len(espaco_busca)):\n",
    "        if palavra == espaco_busca[i]:\n",
    "            return espaco_aleatorio[i]\n",
    "\n",
    "\n",
    "def nova_maquina():\n",
    "    novo_atual = []\n",
    "    novo_proximo = []\n",
    "    nova_msf = []\n",
    "    for i in range(len(l)):\n",
    "        #print(atual_convertido[i],proximo_convertido[i])\n",
    "        novo_atual.append(correspondente(atual_convertido[i]))\n",
    "        novo_proximo.append(correspondente(proximo_convertido[i]))\n",
    "        nova_atrib = lista_entradas[i]+novo_atual[i]+novo_proximo[i]+lista_saidas[i]\n",
    "        nova_msf.append(nova_atrib)\n",
    "        \n",
    "    return nova_msf\n",
    "\n",
    "nova_msf = nova_maquina()\n",
    "#print(nova_msf)\n",
    "#print(len(msf_pronta),\"->\",len(nova_msf))    \n",
    "#for i in range(len(nova_msf)):\n",
    "#    print(msf_pronta[i],\"->\",nova_msf[i])\n",
    "\n",
    "teste = list(qm.simplify_los(msf_pronta))\n",
    "print(prepara_lista(teste))"
   ]
  },
  {
   "cell_type": "code",
   "execution_count": 32,
   "metadata": {},
   "outputs": [],
   "source": [
    "#teste lista\n",
    "\n",
    "teste = []\n",
    "teste = nova_maquina()\n",
    "nova_solucao = []\n",
    "\n",
    "temperatura_final = 1\n",
    "#print(melhor)\n",
    "#for i in range(10):\n",
    "#    nova_solucao = nova_maquina()\n",
    "#    #print(i)\n",
    "#    #print(len(nova_solucao))\n",
    "#    nova_solucao_simplificada = list(qm.simplify_los(nova_solucao))\n",
    "#    print(prepara_lista(melhor),\"->\",prepara_lista(nova_solucao_simplificada))\n",
    "#    print(\"nova:\",nova_solucao_simplificada)\n",
    "#    if(prepara_lista(nova_solucao_simplificada) < prepara_lista(melhor)):\n",
    "#        melhor = nova_solucao_simplificada\n",
    "#    print(\"melhor:\",melhor)\n",
    "\n",
    "def simulated_annealing(temperatura):\n",
    "    melhor = list(qm.simplify_los(msf_pronta))\n",
    "    historico = [prepara_lista(melhor)]\n",
    "    while temperatura > temperatura_final:\n",
    "        for i in range(10):\n",
    "            nova_solucao = nova_maquina()\n",
    "            #np.warnings.filterwarnings('ignore')\n",
    "            nova_solucao_simplificada = list(qm.simplify_los(nova_solucao))\n",
    "            probabilidade = np.random.normal()\n",
    "            if (prepara_lista(nova_solucao_simplificada) - prepara_lista(melhor)) < 0  or probabilidade < (np.log(-(prepara_lista(nova_solucao_simplificada)) - (prepara_lista(melhor)))/temperatura):\n",
    "                melhor = nova_solucao_simplificada\n",
    "                historico.append(prepara_lista(melhor))\n",
    "        temperatura = temperatura-1\n",
    "    return melhor, historico"
   ]
  },
  {
   "cell_type": "code",
   "execution_count": 33,
   "metadata": {},
   "outputs": [
    {
     "name": "stderr",
     "output_type": "stream",
     "text": [
      "/home/reinaldo/anaconda3/lib/python3.7/site-packages/ipykernel_launcher.py:29: RuntimeWarning: invalid value encountered in log\n"
     ]
    },
    {
     "name": "stdout",
     "output_type": "stream",
     "text": [
      "['00110111100000', '10110110011001', '--0-1000100000', '--0-0100010000', '-1110010001100', '1011-00-010000', '--0-1001100100', '00110110011100', '---00101010100', '---01001100100', '-111100-000100', '---00111011100', '-111-000000100', '-1110011001110', '10110100010100', '--0-0000000000', '10110-11010000', '---01000100000', '--0-0001000100', '---00010001000', '00110010000100', '---00011001110', '--0-0111011100', '00110101010000', '00111000100100', '00110-00000000', '0011-001000000', '---00100010000', '---00001000100', '-1110001001000', '---00000000000', '--0-0101010100', '-11101--000100', '--0-0011001110', '101100--010000', '00110011011100', '--0-0110011001', '---00110011001', '10110101011000', '--0-0010001000']\n",
      "[104]\n"
     ]
    },
    {
     "data": {
      "text/plain": [
       "[<matplotlib.lines.Line2D at 0x7fc999795f10>]"
      ]
     },
     "execution_count": 33,
     "metadata": {},
     "output_type": "execute_result"
    },
    {
     "data": {
      "image/png": "[encoded data removed]",
      "text/plain": [
       "<Figure size 1080x360 with 1 Axes>"
      ]
     },
     "metadata": {
      "needs_background": "light"
     },
     "output_type": "display_data"
    }
   ],
   "source": [
    "temperatura = 100\n",
    "resultado, historico = simulated_annealing(temperatura)\n",
    "print(resultado)\n",
    "print(historico)\n",
    "plt.plot(historico)\n",
    "#plt.plot(historico, hv(historico))"
   ]
  },
  {
   "cell_type": "code",
   "execution_count": null,
   "metadata": {},
   "outputs": [],
   "source": []
  },
  {
   "cell_type": "code",
   "execution_count": null,
   "metadata": {},
   "outputs": [],
   "source": []
  }
 ],
 "metadata": {
  "kernelspec": {
   "display_name": "Python 3",
   "language": "python",
   "name": "python3"
  },
  "language_info": {
   "codemirror_mode": {
    "name": "ipython",
    "version": 3
   },
   "file_extension": ".py",
   "mimetype": "text/x-python",
   "name": "python",
   "nbconvert_exporter": "python",
   "pygments_lexer": "ipython3",
   "version": "3.7.7"
  }
 },
 "nbformat": 4,
 "nbformat_minor": 4
}
